{
 "cells": [
  {
   "cell_type": "code",
   "execution_count": 1,
   "metadata": {},
   "outputs": [],
   "source": [
    "from pyspark.context import SparkContext\n",
    "from pyspark.sql import SparkSession\n",
    "from pyspark.context import SparkConf\n",
    "from pyspark.sql import Row\n",
    "from pyspark.sql.window import Window\n",
    "from pyspark.sql import functions as F\n",
    "import pyspark.sql.types as T \n",
    "from pyspark.sql.functions import udf\n",
    "from pyspark.sql.functions import col\n",
    "from operator import add\n",
    "from functools import reduce\n",
    "from bio_spark.io.fasta_reader import FASTAReade\n",
    "import collections\n",
    "import numpy as np"
   ]
  },
  {
   "cell_type": "markdown",
   "metadata": {},
   "source": [
    "### Data Input"
   ]
  },
  {
   "cell_type": "code",
   "execution_count": 2,
   "metadata": {},
   "outputs": [
    {
     "data": {
      "text/plain": [
       "DataFrame[seqID: struct<row:string>, seq: struct<row:string>, +: struct<row:string>, quality: struct<row:string>]"
      ]
     },
     "execution_count": 2,
     "metadata": {},
     "output_type": "execute_result"
    }
   ],
   "source": [
    "sConf = SparkConf(\"spark://localhost:7077\")\n",
    "sc = SparkContext(conf=sConf)\n",
    "spark = SparkSession(sc)\n",
    "\n",
    "plain_df = sc.textFile(\"/home/thiago/Dados/sparkAAI-1/data/SP1.fq\").map(lambda x: Row(row=x)).toDF()\n",
    "\n",
    "reader = FASTAReade(sc)\n",
    "parsedDF = reader.read(plain_df)\n",
    "parsedDF.coalesce(4)"
   ]
  },
  {
   "cell_type": "markdown",
   "metadata": {},
   "source": [
    "### Calculate Kmers"
   ]
  },
  {
   "cell_type": "code",
   "execution_count": 140,
   "metadata": {},
   "outputs": [],
   "source": [
    "Seq2kmerTy = T.ArrayType(T.StringType())\n",
    "def seq2kmer(seq_):\n",
    "    value = seq_[0].strip()    \n",
    "    k = 3\n",
    "    num_kmers = len(value) - k + 1\n",
    "    kmers_list = [value[n*k:k*(n+1)] for n in range(0, num_kmers)]\n",
    "    \n",
    "    # return len(value)\n",
    "    return kmers_list\n",
    "\n",
    "seq2kmer_udf = udf(seq2kmer,Seq2kmerTy)"
   ]
  },
  {
   "cell_type": "code",
   "execution_count": 141,
   "metadata": {},
   "outputs": [],
   "source": [
    "kmers_of_seqs_df = parsedDF\\\n",
    "        .withColumn(\"kmers\", seq2kmer_udf(\"seq\"))\\"
   ]
  },
  {
   "cell_type": "code",
   "execution_count": 142,
   "metadata": {},
   "outputs": [
    {
     "name": "stdout",
     "output_type": "stream",
     "text": [
      "+--------------------+--------------------+\n",
      "|               seqID|               kmers|\n",
      "+--------------------+--------------------+\n",
      "|[@cluster_2:UMI_A...|[TTT, CCG, GGG, C...|\n",
      "|[@cluster_8:UMI_C...|[TAT, CCT, TGC, A...|\n",
      "|[@cluster_12:UMI_...|[GCA, GTT, TAA, G...|\n",
      "|[@cluster_21:UMI_...|[GGC, ATT, GCA, A...|\n",
      "|[@cluster_29:UMI_...|[CCC, CCT, TAA, A...|\n",
      "|[@cluster_34:UMI_...|[TCT, TGC, AAA, A...|\n",
      "|[@cluster_36:UMI_...|[TCC, CCC, CCC, C...|\n",
      "|[@cluster_37:UMI_...|[GTC, TTT, GTA, C...|\n",
      "|[@cluster_39:UMI_...|[CCT, TCC, ATC, A...|\n",
      "|[@cluster_43:UMI_...|[GAG, TTA, TAA, T...|\n",
      "|[@cluster_53:UMI_...|[GGA, AAA, TGA, A...|\n",
      "|[@cluster_55:UMI_...|[AGA, CAA, AAG, G...|\n",
      "|[@cluster_58:UMI_...|[AAA, GCA, ATC, C...|\n",
      "|[@cluster_62:UMI_...|[GAG, TTG, CGA, C...|\n",
      "|[@cluster_63:UMI_...|[GCA, ACC, ATA, C...|\n",
      "|[@cluster_66:UMI_...|[CCA, ACT, AAC, T...|\n",
      "|[@cluster_70:UMI_...|[CTT, TTT, CTT, C...|\n",
      "|[@cluster_71:UMI_...|[CAG, CTT, TGC, A...|\n",
      "|[@cluster_82:UMI_...|[GCT, TAT, GTT, T...|\n",
      "|[@cluster_83:UMI_...|[CTC, CCA, CAG, T...|\n",
      "+--------------------+--------------------+\n",
      "only showing top 20 rows\n",
      "\n"
     ]
    }
   ],
   "source": [
    "kmers_of_seqs_df.select(\"seqID\", \"kmers\").show()"
   ]
  },
  {
   "cell_type": "markdown",
   "metadata": {},
   "source": [
    "### UDFs"
   ]
  },
  {
   "cell_type": "code",
   "execution_count": 143,
   "metadata": {},
   "outputs": [],
   "source": [
    "n = np.array([[\"1\",'2'], [\"3\",\"4\"]])"
   ]
  },
  {
   "cell_type": "code",
   "execution_count": 144,
   "metadata": {},
   "outputs": [],
   "source": [
    "unique, counts = np.unique(n.flatten(), return_counts=True)\n",
    "kmers_list = list(zip(unique.tolist(), counts.tolist()))"
   ]
  },
  {
   "cell_type": "code",
   "execution_count": 145,
   "metadata": {},
   "outputs": [],
   "source": [
    "u,c = np.unique([[\"1\", \"1\", \"2\"]], return_counts=True)"
   ]
  },
  {
   "cell_type": "code",
   "execution_count": 146,
   "metadata": {},
   "outputs": [
    {
     "data": {
      "text/plain": [
       "{'1': 2, '2': 1}"
      ]
     },
     "execution_count": 146,
     "metadata": {},
     "output_type": "execute_result"
    }
   ],
   "source": [
    "{k:v for k, v in zip(u, c)}"
   ]
  },
  {
   "cell_type": "code",
   "execution_count": 169,
   "metadata": {},
   "outputs": [
    {
     "name": "stdout",
     "output_type": "stream",
     "text": [
      "ok\n"
     ]
    }
   ],
   "source": [
    "if not \"\":\n",
    "    print(\"ok\")"
   ]
  },
  {
   "cell_type": "code",
   "execution_count": 175,
   "metadata": {},
   "outputs": [],
   "source": [
    "KmerFreqTuple = T.MapType(T.StringType(), T.IntegerType())\n",
    "\n",
    "def kmers_list2kmers_freq_dict(kmers_list):\n",
    "    unique, counts = np.unique(kmers_list[0], return_counts=True)\n",
    "    kmers_map = {str(k):int(v) for k, v in zip(unique, counts) if k}\n",
    "    return kmers_map\n",
    "#     return len(unique)\n",
    "\n",
    "# kmers_list2kmers_freq_dict_udf = udf(kmers_list2kmers_freq_dict,KmerFreqTuple)\n",
    "kmers_list2kmers_freq_dict_udf = udf(kmers_list2kmers_freq_dict)"
   ]
  },
  {
   "cell_type": "code",
   "execution_count": 176,
   "metadata": {},
   "outputs": [],
   "source": [
    "agg_by_seq_df = kmers_of_seqs_df\\\n",
    "            .groupby(\"seqID\")\\\n",
    "            .agg(F.collect_list('kmers').alias('kmers_list'))\\"
   ]
  },
  {
   "cell_type": "code",
   "execution_count": 177,
   "metadata": {},
   "outputs": [],
   "source": [
    "kmers_pofile_df = kmers_of_seqs_df\\\n",
    "            .groupby(\"seqID\")\\\n",
    "            .agg(F.collect_list('kmers').alias('kmers_list'))\\\n",
    "            .withColumn('kmers_freq', kmers_list2kmers_freq_dict_udf('kmers_list'))"
   ]
  },
  {
   "cell_type": "code",
   "execution_count": 178,
   "metadata": {},
   "outputs": [
    {
     "name": "stdout",
     "output_type": "stream",
     "text": [
      "root\n",
      " |-- seqID: struct (nullable = true)\n",
      " |    |-- row: string (nullable = true)\n",
      " |-- kmers_list: array (nullable = true)\n",
      " |    |-- element: array (containsNull = true)\n",
      " |    |    |-- element: string (containsNull = true)\n",
      " |-- kmers_freq: string (nullable = true)\n",
      "\n"
     ]
    }
   ],
   "source": [
    "kmers_pofile_df.printSchema()"
   ]
  },
  {
   "cell_type": "code",
   "execution_count": 179,
   "metadata": {},
   "outputs": [
    {
     "name": "stdout",
     "output_type": "stream",
     "text": [
      "+--------------------+--------------------+\n",
      "|               seqID|          kmers_freq|\n",
      "+--------------------+--------------------+\n",
      "|[@cluster_159:UMI...|{TTA=1, TGC=1, AA...|\n",
      "|[@cluster_323:UMI...|{GGA=1, ATC=1, AA...|\n",
      "|[@cluster_63:UMI_...|{ACC=1, AAA=1, CC...|\n",
      "|[@cluster_626:UMI...|{GGA=1, ATC=1, AA...|\n",
      "|[@cluster_389:UMI...|{CCA=2, CGG=1, CC...|\n",
      "|[@cluster_475:UMI...|{CCA=1, AAA=1, CG...|\n",
      "|[@cluster_823:UMI...|{TTA=2, CCA=2, AA...|\n",
      "|[@cluster_131:UMI...|{ATT=1, T=1, TTT=...|\n",
      "|[@cluster_36:UMI_...|{GGA=1, ATC=1, AA...|\n",
      "|[@cluster_373:UMI...|{CTA=1, ATT=1, AA...|\n",
      "|[@cluster_545:UMI...|{TTA=1, CTT=1, CA...|\n",
      "|[@cluster_126:UMI...|{GGA=1, ATC=1, AA...|\n",
      "|[@cluster_144:UMI...|{CCA=2, AAA=1, CG...|\n",
      "|[@cluster_376:UMI...|{TTA=2, ATT=1, AA...|\n",
      "|[@cluster_491:UMI...|{TGT=1, CCA=1, GG...|\n",
      "|[@cluster_566:UMI...|{GGA=1, AAA=1, C=...|\n",
      "|[@cluster_572:UMI...|{GGA=1, ATC=1, AC...|\n",
      "|[@cluster_298:UMI...|{TTA=1, GGA=1, CC...|\n",
      "|[@cluster_408:UMI...|{TTA=1, CCA=1, CT...|\n",
      "|[@cluster_537:UMI...|{TTA=2, ACT=1, CA...|\n",
      "+--------------------+--------------------+\n",
      "only showing top 20 rows\n",
      "\n"
     ]
    }
   ],
   "source": [
    "kmers_pofile_df.select(\"seqID\", \"kmers_freq\").show()"
   ]
  },
  {
   "cell_type": "code",
   "execution_count": 163,
   "metadata": {},
   "outputs": [
    {
     "data": {
      "text/plain": [
       "250"
      ]
     },
     "execution_count": 163,
     "metadata": {},
     "output_type": "execute_result"
    }
   ],
   "source": [
    "agg_by_seq_df.count()"
   ]
  },
  {
   "cell_type": "code",
   "execution_count": null,
   "metadata": {},
   "outputs": [],
   "source": []
  }
 ],
 "metadata": {
  "kernelspec": {
   "display_name": "bio_env",
   "language": "python",
   "name": "bio_env"
  },
  "language_info": {
   "codemirror_mode": {
    "name": "ipython",
    "version": 3
   },
   "file_extension": ".py",
   "mimetype": "text/x-python",
   "name": "python",
   "nbconvert_exporter": "python",
   "pygments_lexer": "ipython3",
   "version": "3.7.3"
  }
 },
 "nbformat": 4,
 "nbformat_minor": 4
}
