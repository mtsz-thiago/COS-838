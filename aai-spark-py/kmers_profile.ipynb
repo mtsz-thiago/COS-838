{
 "cells": [
  {
   "cell_type": "code",
   "execution_count": 97,
   "metadata": {},
   "outputs": [],
   "source": [
    "from pyspark.context import SparkContext\n",
    "from pyspark.sql import SparkSession\n",
    "from pyspark.context import SparkConf\n",
    "from pyspark.sql import Row\n",
    "from pyspark.sql.window import Window\n",
    "from pyspark.sql import functions as F\n",
    "import pyspark.sql.types as T \n",
    "from pyspark.sql.functions import udf\n",
    "from pyspark.sql.functions import col\n",
    "from operator import add\n",
    "from functools import reduce\n",
    "from bio_spark.io.fasta_reader import FASTAReader, FASTAQReader\n",
    "import collections\n",
    "import numpy as np\n",
    "import sys\n",
    "\n",
    "from operator import add"
   ]
  },
  {
   "cell_type": "markdown",
   "metadata": {},
   "source": [
    "### Data Input"
   ]
  },
  {
   "cell_type": "code",
   "execution_count": 2,
   "metadata": {},
   "outputs": [],
   "source": [
    "sConf = SparkConf(\"spark://localhost:7077\")\n",
    "sc = SparkContext(conf=sConf)\n",
    "spark = SparkSession(sc)"
   ]
  },
  {
   "cell_type": "code",
   "execution_count": 84,
   "metadata": {},
   "outputs": [],
   "source": [
    "fasta_plain_df = sc.textFile(\"/home/thiago/Dados/sparkAAI-1/data/genomes/Prochlorococcus_sp_W2_genomic.fna\")\\\n",
    "            .map(lambda x: Row(row=x))\\\n",
    "            .zipWithIndex()\\\n",
    "            .toDF([\"row\",\"idx\"])"
   ]
  },
  {
   "cell_type": "code",
   "execution_count": 85,
   "metadata": {},
   "outputs": [
    {
     "name": "stdout",
     "output_type": "stream",
     "text": [
      "+--------------------+---+\n",
      "|                 row|idx|\n",
      "+--------------------+---+\n",
      "|[>ALPB01000001.1 ...|  0|\n",
      "|[GACACTCATCCAATTT...|  1|\n",
      "|[AGAAAAAAATTTACTC...|  2|\n",
      "|[GAACTGATATTGCTAA...|  3|\n",
      "|[GCCAGATATGGAGAAG...|  4|\n",
      "|[CATACCTATTATCGAG...|  5|\n",
      "|[CAAATTTTATTTTGTC...|  6|\n",
      "|[GCCGAACTAGATCCAA...|  7|\n",
      "|[AGGAAAAATTGATAGA...|  8|\n",
      "|[TGGGTTTTGAAATTAA...|  9|\n",
      "|[TGGGTTGGTCCAACAC...| 10|\n",
      "|[TGATCCTGTTGGAGAA...| 11|\n",
      "|[TGAATCTGAAAGCCCT...| 12|\n",
      "|[CGAAAATGCCATGTTA...| 13|\n",
      "|[TATAGGTAAAATCGGA...| 14|\n",
      "|[AAGCAGAAATAGTTGT...| 15|\n",
      "|[GAAGTTAAATTTATTG...| 16|\n",
      "|[>ALPB01000002.1 ...| 17|\n",
      "|[CATTTCTTTAGGTATT...| 18|\n",
      "|[AACTCAATCAATTTGA...| 19|\n",
      "+--------------------+---+\n",
      "only showing top 20 rows\n",
      "\n"
     ]
    }
   ],
   "source": [
    "fasta_plain_df.show()"
   ]
  },
  {
   "cell_type": "code",
   "execution_count": 162,
   "metadata": {},
   "outputs": [],
   "source": [
    "def parse_fasta_id_line(l):\n",
    "    if l[0][0] == \">\":\n",
    "        heaer_splits = l[0][1:].split(\" \")[0]\n",
    "        seq_id_split = heaer_splits.split(\".\")\n",
    "        return seq_id_split[0]\n",
    "    else:\n",
    "        return None\n",
    "seq2kmer_udf = udf(parse_fasta_id_line, T.StringType())"
   ]
  },
  {
   "cell_type": "code",
   "execution_count": 163,
   "metadata": {},
   "outputs": [
    {
     "name": "stdout",
     "output_type": "stream",
     "text": [
      "+--------------------+---+------------+\n",
      "|                 row|idx| seqID_wNull|\n",
      "+--------------------+---+------------+\n",
      "|[>ALPB01000001.1 ...|  0|ALPB01000001|\n",
      "|[GACACTCATCCAATTT...|  1|        null|\n",
      "|[AGAAAAAAATTTACTC...|  2|        null|\n",
      "|[GAACTGATATTGCTAA...|  3|        null|\n",
      "|[GCCAGATATGGAGAAG...|  4|        null|\n",
      "|[CATACCTATTATCGAG...|  5|        null|\n",
      "|[CAAATTTTATTTTGTC...|  6|        null|\n",
      "|[GCCGAACTAGATCCAA...|  7|        null|\n",
      "|[AGGAAAAATTGATAGA...|  8|        null|\n",
      "|[TGGGTTTTGAAATTAA...|  9|        null|\n",
      "|[TGGGTTGGTCCAACAC...| 10|        null|\n",
      "|[TGATCCTGTTGGAGAA...| 11|        null|\n",
      "|[TGAATCTGAAAGCCCT...| 12|        null|\n",
      "|[CGAAAATGCCATGTTA...| 13|        null|\n",
      "|[TATAGGTAAAATCGGA...| 14|        null|\n",
      "|[AAGCAGAAATAGTTGT...| 15|        null|\n",
      "|[GAAGTTAAATTTATTG...| 16|        null|\n",
      "|[>ALPB01000002.1 ...| 17|ALPB01000002|\n",
      "|[CATTTCTTTAGGTATT...| 18|        null|\n",
      "|[AACTCAATCAATTTGA...| 19|        null|\n",
      "+--------------------+---+------------+\n",
      "only showing top 20 rows\n",
      "\n"
     ]
    }
   ],
   "source": [
    "fasta_null_ids_df = fasta_plain_df.withColumn(\"seqID_wNull\", seq2kmer_udf(\"row\"))\n",
    "fasta_null_ids_df.show()"
   ]
  },
  {
   "cell_type": "code",
   "execution_count": 164,
   "metadata": {},
   "outputs": [],
   "source": [
    "fasta_n_filter_df = fasta_null_ids_df.withColumn(\n",
    "    \"seqID\", F.last('seqID_wNull', ignorenulls=True)\\\n",
    "    .over(Window\\\n",
    "    .orderBy('idx')\\\n",
    "    .rowsBetween(Window.unboundedPreceding, Window.currentRow)))\n",
    "\n",
    "fasta_df = fasta_n_filter_df\\\n",
    "                .where(F.col(\"seqID_wNull\").isNull())\\\n",
    "                .select(\"seqID\",\"row\")\\\n",
    "                .toDF(\"seqID\",\"seq\")"
   ]
  },
  {
   "cell_type": "code",
   "execution_count": 165,
   "metadata": {},
   "outputs": [
    {
     "name": "stdout",
     "output_type": "stream",
     "text": [
      "+------------+--------------------+\n",
      "|       seqID|                 seq|\n",
      "+------------+--------------------+\n",
      "|ALPB01000001|[GACACTCATCCAATTT...|\n",
      "|ALPB01000001|[AGAAAAAAATTTACTC...|\n",
      "|ALPB01000001|[GAACTGATATTGCTAA...|\n",
      "|ALPB01000001|[GCCAGATATGGAGAAG...|\n",
      "|ALPB01000001|[CATACCTATTATCGAG...|\n",
      "|ALPB01000001|[CAAATTTTATTTTGTC...|\n",
      "|ALPB01000001|[GCCGAACTAGATCCAA...|\n",
      "|ALPB01000001|[AGGAAAAATTGATAGA...|\n",
      "|ALPB01000001|[TGGGTTTTGAAATTAA...|\n",
      "|ALPB01000001|[TGGGTTGGTCCAACAC...|\n",
      "|ALPB01000001|[TGATCCTGTTGGAGAA...|\n",
      "|ALPB01000001|[TGAATCTGAAAGCCCT...|\n",
      "|ALPB01000001|[CGAAAATGCCATGTTA...|\n",
      "|ALPB01000001|[TATAGGTAAAATCGGA...|\n",
      "|ALPB01000001|[AAGCAGAAATAGTTGT...|\n",
      "|ALPB01000001|[GAAGTTAAATTTATTG...|\n",
      "|ALPB01000002|[CATTTCTTTAGGTATT...|\n",
      "|ALPB01000002|[AACTCAATCAATTTGA...|\n",
      "|ALPB01000002|[GAGATAAGTGAATTTG...|\n",
      "|ALPB01000002|[TAGTTCTTATAAACCT...|\n",
      "+------------+--------------------+\n",
      "only showing top 20 rows\n",
      "\n"
     ]
    }
   ],
   "source": [
    "fasta_df.show()"
   ]
  },
  {
   "cell_type": "code",
   "execution_count": 166,
   "metadata": {},
   "outputs": [
    {
     "name": "stdout",
     "output_type": "stream",
     "text": [
      "root\n",
      " |-- seqID: string (nullable = true)\n",
      " |-- seq: struct (nullable = true)\n",
      " |    |-- row: string (nullable = true)\n",
      "\n"
     ]
    }
   ],
   "source": [
    "fasta_df.printSchema()"
   ]
  },
  {
   "cell_type": "markdown",
   "metadata": {},
   "source": [
    "### Calculate Kmers"
   ]
  },
  {
   "cell_type": "code",
   "execution_count": 173,
   "metadata": {},
   "outputs": [],
   "source": [
    "Seq2kmerTy = T.ArrayType(T.StringType())\n",
    "def seq2kmer(seq_):\n",
    "    value = seq_[0].strip()    \n",
    "    k = 3\n",
    "    num_kmers = len(value) - k + 1\n",
    "    kmers_list = [value[n*k:k*(n+1)] for n in range(0, num_kmers)]\n",
    "    \n",
    "    # return len(value)\n",
    "    return kmers_list\n",
    "\n",
    "seq2kmer_udf = udf(seq2kmer,Seq2kmerTy)"
   ]
  },
  {
   "cell_type": "code",
   "execution_count": 174,
   "metadata": {},
   "outputs": [],
   "source": [
    "fasta_kmers_df = fasta_df\\\n",
    "        .withColumn(\"kmers\", seq2kmer_udf(\"seq\"))\\"
   ]
  },
  {
   "cell_type": "code",
   "execution_count": 175,
   "metadata": {},
   "outputs": [
    {
     "name": "stdout",
     "output_type": "stream",
     "text": [
      "+------------+--------------------+--------------------+\n",
      "|       seqID|                 seq|               kmers|\n",
      "+------------+--------------------+--------------------+\n",
      "|ALPB01000001|[GACACTCATCCAATTT...|[GAC, ACT, CAT, C...|\n",
      "|ALPB01000001|[AGAAAAAAATTTACTC...|[AGA, AAA, AAA, T...|\n",
      "|ALPB01000001|[GAACTGATATTGCTAA...|[GAA, CTG, ATA, T...|\n",
      "|ALPB01000001|[GCCAGATATGGAGAAG...|[GCC, AGA, TAT, G...|\n",
      "|ALPB01000001|[CATACCTATTATCGAG...|[CAT, ACC, TAT, T...|\n",
      "|ALPB01000001|[CAAATTTTATTTTGTC...|[CAA, ATT, TTA, T...|\n",
      "|ALPB01000001|[GCCGAACTAGATCCAA...|[GCC, GAA, CTA, G...|\n",
      "|ALPB01000001|[AGGAAAAATTGATAGA...|[AGG, AAA, AAT, T...|\n",
      "|ALPB01000001|[TGGGTTTTGAAATTAA...|[TGG, GTT, TTG, A...|\n",
      "|ALPB01000001|[TGGGTTGGTCCAACAC...|[TGG, GTT, GGT, C...|\n",
      "|ALPB01000001|[TGATCCTGTTGGAGAA...|[TGA, TCC, TGT, T...|\n",
      "|ALPB01000001|[TGAATCTGAAAGCCCT...|[TGA, ATC, TGA, A...|\n",
      "|ALPB01000001|[CGAAAATGCCATGTTA...|[CGA, AAA, TGC, C...|\n",
      "|ALPB01000001|[TATAGGTAAAATCGGA...|[TAT, AGG, TAA, A...|\n",
      "|ALPB01000001|[AAGCAGAAATAGTTGT...|[AAG, CAG, AAA, T...|\n",
      "|ALPB01000001|[GAAGTTAAATTTATTG...|[GAA, GTT, AAA, T...|\n",
      "|ALPB01000002|[CATTTCTTTAGGTATT...|[CAT, TTC, TTT, A...|\n",
      "|ALPB01000002|[AACTCAATCAATTTGA...|[AAC, TCA, ATC, A...|\n",
      "|ALPB01000002|[GAGATAAGTGAATTTG...|[GAG, ATA, AGT, G...|\n",
      "|ALPB01000002|[TAGTTCTTATAAACCT...|[TAG, TTC, TTA, T...|\n",
      "+------------+--------------------+--------------------+\n",
      "only showing top 20 rows\n",
      "\n"
     ]
    }
   ],
   "source": [
    "fasta_kmers_df.show()"
   ]
  },
  {
   "cell_type": "markdown",
   "metadata": {},
   "source": [
    "### Obtém perfis para as squências"
   ]
  },
  {
   "cell_type": "code",
   "execution_count": 18,
   "metadata": {},
   "outputs": [],
   "source": [
    "KmerFreqTuple = T.MapType(T.StringType(), T.IntegerType())\n",
    "\n",
    "def kmers_list2kmers_freq_dict(kmers_list):\n",
    "    unique, counts = np.unique(kmers_list[0], return_counts=True)\n",
    "    kmers_map = {str(k):int(v) for k, v in zip(unique, counts) if k}\n",
    "    return kmers_map\n",
    "\n",
    "kmers_list2kmers_freq_dict_udf = udf(kmers_list2kmers_freq_dict)"
   ]
  },
  {
   "cell_type": "code",
   "execution_count": 176,
   "metadata": {},
   "outputs": [],
   "source": [
    "kmers_pofile_df = fasta_kmers_df\\\n",
    "            .groupby(\"seqID\")\\\n",
    "            .agg(F.collect_list('kmers').alias('kmers_list'))\\\n",
    "            .withColumn('kmers_freq', kmers_list2kmers_freq_dict_udf('kmers_list'))"
   ]
  },
  {
   "cell_type": "code",
   "execution_count": 177,
   "metadata": {},
   "outputs": [
    {
     "name": "stdout",
     "output_type": "stream",
     "text": [
      "root\n",
      " |-- seqID: string (nullable = true)\n",
      " |-- kmers_list: array (nullable = true)\n",
      " |    |-- element: array (containsNull = true)\n",
      " |    |    |-- element: string (containsNull = true)\n",
      " |-- kmers_freq: string (nullable = true)\n",
      "\n"
     ]
    }
   ],
   "source": [
    "kmers_pofile_df.printSchema()"
   ]
  },
  {
   "cell_type": "code",
   "execution_count": 178,
   "metadata": {},
   "outputs": [
    {
     "name": "stdout",
     "output_type": "stream",
     "text": [
      "+------------+--------------------+\n",
      "|       seqID|          kmers_freq|\n",
      "+------------+--------------------+\n",
      "|ALPB01000035|{TTA=2, TT=1, ATT...|\n",
      "|ALPB01000095|{ATT=1, AAA=1, CC...|\n",
      "|ALPB01000016|{TTA=2, CCA=1, AC...|\n",
      "|ALPB01000097|{TTA=1, GG=1, CCA...|\n",
      "|ALPB01000087|{TTA=5, ATT=2, AA...|\n",
      "|ALPB01000043|{TTA=1, TGT=2, GG...|\n",
      "|ALPB01000044|{TTA=1, TT=1, TGT...|\n",
      "|ALPB01000093|{TTA=3, TGT=1, AT...|\n",
      "|ALPB01000036|{GGA=1, ATT=3, AA...|\n",
      "|ALPB01000053|{TTA=1, AAA=1, TT...|\n",
      "|ALPB01000070|{TTA=3, AA=1, ATT...|\n",
      "|ALPB01000017|{GGA=2, ATT=2, AC...|\n",
      "|ALPB01000001|{TTA=1, CCA=1, AT...|\n",
      "|ALPB01000059|{TTA=2, AA=1, AAA...|\n",
      "|ALPB01000018|{TTA=3, ATT=2, AA...|\n",
      "|ALPB01000085|{AA=1, AAA=8, CCC...|\n",
      "|ALPB01000037|{CCA=2, ATT=2, AC...|\n",
      "|ALPB01000028|{TTA=2, ATT=1, AA...|\n",
      "|ALPB01000022|{GGA=2, CC=1, ATT...|\n",
      "|ALPB01000081|{TTA=2, GG=1, ATT...|\n",
      "+------------+--------------------+\n",
      "only showing top 20 rows\n",
      "\n"
     ]
    }
   ],
   "source": [
    "kmers_pofile_df.select(\"seqID\", \"kmers_freq\").show()"
   ]
  },
  {
   "cell_type": "code",
   "execution_count": 179,
   "metadata": {},
   "outputs": [
    {
     "data": {
      "text/plain": [
       "108"
      ]
     },
     "execution_count": 179,
     "metadata": {},
     "output_type": "execute_result"
    }
   ],
   "source": [
    "kmers_pofile_df.count()"
   ]
  }
 ],
 "metadata": {
  "kernelspec": {
   "display_name": "bio_env",
   "language": "python",
   "name": "bio_env"
  },
  "language_info": {
   "codemirror_mode": {
    "name": "ipython",
    "version": 3
   },
   "file_extension": ".py",
   "mimetype": "text/x-python",
   "name": "python",
   "nbconvert_exporter": "python",
   "pygments_lexer": "ipython3",
   "version": "3.7.3"
  }
 },
 "nbformat": 4,
 "nbformat_minor": 4
}
